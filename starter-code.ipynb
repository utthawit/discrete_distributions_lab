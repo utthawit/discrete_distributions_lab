{
 "cells": [
  {
   "cell_type": "markdown",
   "metadata": {},
   "source": [
    "# \"Fun with Loot Boxes\" Lab\n",
    "\n",
    "> Author: Caroline Schmitt, Matt Brems\n",
    "\n",
    "### Scenario:\n",
    "\n",
    "You're an analyst for [Zynga](https://en.wikipedia.org/wiki/Zynga), a gaming studio working on an event for an MMO (massively multiplayer online) game. This event is going to include **loot boxes**.\n",
    "\n",
    "<img src=\"https://vignette.wikia.nocookie.net/2007scape/images/0/06/Culinaromancer%27s_chest.png/revision/latest?cb=20180403231423\" alt=\"drawing\" width=\"150\"/> \n",
    "\n",
    "A loot box is basically a treasure chest in a game. This loot box can be opened to reveal a variety of items: some items are very rare and valuable, other items are common and less valuable. (You may consult [the esteemed Wikipedia](https://en.wikipedia.org/wiki/Loot_box) for a more extensive definition.)\n",
    "\n",
    "In our specific game, suppose that loot boxes can be obtained in one of two ways: \n",
    "- After every three hours of playing the game, a user will earn one loot box.\n",
    "- If the user wishes to purchase a loot box, they may pay $1 (in real money!) for a loot box.\n",
    "\n",
    "These loot boxes are very good for our business!\n",
    "- If a player earns a loot box, it means they are spending lots of time on the game. This often leads to advertisement revenue, they may tell their friends to join the game, etc.\n",
    "- If the player purchases a loot box, it means we've earned $1 from our customer.\n",
    "\n",
    "Suppose each loot box is opened to reveal either:\n",
    "- magical elixir (super rare, very valuable), or\n",
    "- nothing.\n",
    "\n",
    "Whether each loot box contains the elixir or nothing is **random**. Our boss wants some guidance on what sort of randomness to use on these loot boxes! \n",
    "- If the magical elixir is too rare, then users may not be motivated to try to get them, because they believe they'll never find the magical elixir.\n",
    "- If the magical elixir is too common, then users may not be motivated to try to get them, because the game has so much of the magical elixir that it isn't worthwhile to try to get it."
   ]
  },
  {
   "cell_type": "code",
   "execution_count": 6,
   "metadata": {},
   "outputs": [],
   "source": [
    "\n",
    "# Definitions for this lab...\n",
    "\n",
    "# PMF - (Probability Mass Function) - Discrete distribution function returning the probability \n",
    "# that a random variable equals a SPECIFIC value\n",
    "\n",
    "# CDF - (Cumulative Distribution Function) - Probability that a random variable is less than or equal \n",
    "# to a given value\n",
    "\n",
    "     # Discrete - As a step function (plt.step). It increases at each possible value of the random variable\n",
    "     # Continuous - It's the integral of the PDF from negative infinity to the given value\n",
    "\n",
    "# PDF - (Probability Density Function) - Continuous distribution function returning the relative \n",
    "# likelihood of a random variable taking on a given value."
   ]
  },
  {
   "cell_type": "markdown",
   "metadata": {},
   "source": [
    "However, our boss isn't a math-y type person! When explaining things to our boss, we need to explain the impact of our choices on the game as concretely as possible.\n",
    "\n",
    "### Version 1\n",
    "In our first version of the game, we'll say that loot boxes contain magical elixir 15% of the time and nothing 85% of the time.\n",
    "\n",
    "#### 1. Our boss asks, \"If a user buys 100 loot boxes, how many elixirs will they get?\" How would you respond?"
   ]
  },
  {
   "cell_type": "code",
   "execution_count": null,
   "metadata": {},
   "outputs": [],
   "source": [
    "# Answer: We can't guarantee how many elixirs one person would get. It's possible, though unlikely, that\r\n",
    "# a player who is very lucky gets 100 elixirs out of 100 loot boxes. It's also possible, though unlikely, \r\n",
    "# that a player who is very unlucky gets none. The expected value is 15 BUT that does not in any way mean\r\n",
    "# every player gets 15 out of every 100 loot boxes."
   ]
  },
  {
   "cell_type": "code",
   "execution_count": 11,
   "metadata": {},
   "outputs": [
    {
     "name": "stdout",
     "output_type": "stream",
     "text": [
      "Expected number of elixirs from 100 loot boxes: 15.0\n"
     ]
    }
   ],
   "source": [
    "# Expected Value (EV) is the average outcome of an event if repeated many times.\r\n",
    "# It's calculated by multiplying each possible outcome by its probability and summing\r\n",
    "# these products together. EV helps predict long-term results in situations involving chance.\r\n",
    "\r\n",
    "def calculate_elixir_ev(elixir_probability, num_boxes):\r\n",
    "    return elixir_probability * num_boxes\r\n",
    "\r\n",
    "# Game parameters:\r\n",
    "elixir_prob = 0.15  # 15 chance of getting an elixir\r\n",
    "nothing_prob = 0.85  # 85 chance of not getting an elixir\r\n",
    "num_loot_boxes = 100 \r\n",
    "\r\n",
    "expected_elixirs = calculate_elixir_ev(elixir_prob, num_loot_boxes)\r\n",
    "print(f\"Expected number of elixirs from {num_loot_boxes} loot boxes: {expected_elixirs}\")"
   ]
  },
  {
   "cell_type": "markdown",
   "metadata": {},
   "source": [
    "#### 2. Our boss asks, \"How many loot boxes does someone have to purchase in order to definitely get elixir?\" How would you respond?"
   ]
  },
  {
   "cell_type": "code",
   "execution_count": 15,
   "metadata": {},
   "outputs": [],
   "source": [
    "# Answer: Someone could theoretically purchase an infinite number of loot boxes and never get an elixir. \n",
    "# We can't guarantee how many loot boxes one would need to purchase until they find an elixir. \n",
    "\n",
    "# BUT, if each box has a 15% chance of obtaining an elixir, \n",
    "# regardless of previous loot box purchases or openings, then, ON AVERAGE, a user would need to open about \n",
    "# 7 loot boxes to get an elixir. BUT, again, this is just an average. Some users will need fewer \n",
    "# loot boxes to get an elixir and some will need more. The actual number for any given user can vary\n",
    "# widely due to the RANDOM nature of the process."
   ]
  },
  {
   "cell_type": "markdown",
   "metadata": {},
   "source": [
    "#### 3. Our boss asks, \"If a user earns 100 loot boxes, what is the chance that a user gets more than 20 elixirs?\" This is a bit more complicated, so let's break it down before answering."
   ]
  },
  {
   "cell_type": "code",
   "execution_count": 18,
   "metadata": {},
   "outputs": [],
   "source": [
    "# have some chane"
   ]
  },
  {
   "cell_type": "markdown",
   "metadata": {},
   "source": [
    "#### 3a. Let's suppose my random variable $X$ counts up how many elixirs I observe out of my 100 loot boxes. Why is $X$ a discrete random variable?"
   ]
  },
  {
   "cell_type": "code",
   "execution_count": null,
   "metadata": {},
   "outputs": [],
   "source": [
    "\n",
    "# Discrete Random Variable - countable number of outcomes; distinct values\r\n",
    "\r\n",
    "# Continuous Random Variable - uncountable number of outcomes\r\n",
    "\r\n",
    "# X if discrete, can take on 1, 2, 3, 4, 5, etc. These are countable.\r\n",
    "# We can't open 2.5 loot boxes; we can't open 3.7 loot boxes"
   ]
  },
  {
   "cell_type": "markdown",
   "metadata": {},
   "source": [
    "#### 3b. Recall our discrete distributions: discrete uniform, Bernoulli, binomial, Poisson. Let's suppose my random variable $X$ counts up how many elixirs I observe out of my 100 loot boxes. What distribution is best suited for $X$? Why?\n",
    "- Hint: It may help to consider getting the magical elixir a \"success\" and getting nothing a \"failure.\" "
   ]
  },
  {
   "cell_type": "code",
   "execution_count": 21,
   "metadata": {},
   "outputs": [],
   "source": [
    "# Two outcomes: elixir (success) or no elixir (failure)\n",
    "\n",
    "# Discrete Uniform - each outcome is equally likely\n",
    "# Bernoulli - number of successes in one trial. But we have 100 trials here...\n",
    "# Binomial - number of success in `n` number of trials\n",
    "# Poisson - binomial + time\n",
    "\n",
    "# Winner: Binomial"
   ]
  },
  {
   "cell_type": "markdown",
   "metadata": {},
   "source": [
    "**NOTE**: When your Jupyter notebook is open, double-click on this Markdown cell! You can delete this text and put your answer to the previous problem in here."
   ]
  },
  {
   "cell_type": "markdown",
   "metadata": {},
   "source": [
    "#### 3c. Our boss asks, \"If a user earns 100 loot boxes, what is the chance that a user gets more than 20 elixirs?\" Use the probability mass function to answer the boss' question."
   ]
  },
  {
   "cell_type": "code",
   "execution_count": 45,
   "metadata": {},
   "outputs": [
    {
     "name": "stdout",
     "output_type": "stream",
     "text": [
      "0.06631976581888208\n"
     ]
    }
   ],
   "source": [
    "# PMF - (Probability Mass Function) - Discrete distribution function returning the probability \n",
    "# that a random variable equals a SPECIFIC value\n",
    "\n",
    "p = 0.15 # probability of getting elixir\n",
    "n = 100 # number of trial\n",
    "elixir_num = 20\n",
    "\n",
    "X = stats.binom(n, p)\n",
    "\n",
    "prob = 1\n",
    "for i in range(elixir_num + 1):\n",
    "    # loop and subtract probability of getting elixir\n",
    "    prob = prob - X.pmf(i)\n",
    "\n",
    "print(prob)"
   ]
  },
  {
   "cell_type": "code",
   "execution_count": 47,
   "metadata": {},
   "outputs": [
    {
     "name": "stdout",
     "output_type": "stream",
     "text": [
      "The probability of getting more than 20 elixirs from 100 loot boxes is 0.0663\n"
     ]
    }
   ],
   "source": [
    "# other ways\n",
    "# \"If a user earns 100 loot boxes, what is the chance that a user gets more than 20 elixirs?\"\n",
    "def calculate_elixir_probability():\n",
    "    return sum(stats.binom.pmf(x, n=100, p=0.15) for x in range(21, 101))\n",
    "\n",
    "result = calculate_elixir_probability()\n",
    "print(f\"The probability of getting more than 20 elixirs from 100 loot boxes is {result:.4f}\")"
   ]
  },
  {
   "cell_type": "markdown",
   "metadata": {},
   "source": [
    "#### 3d. Our boss asks, \"If a user earns 100 loot boxes, what is the chance that a user gets more than 20 elixirs?\" Use the cumulative distribution function to answer the boss' question."
   ]
  },
  {
   "cell_type": "code",
   "execution_count": 53,
   "metadata": {},
   "outputs": [
    {
     "name": "stdout",
     "output_type": "stream",
     "text": [
      "Probability of getting more than 20 elixirs: 0.0663\n"
     ]
    }
   ],
   "source": [
    "p = 0.15 # probability of getting elixir\n",
    "n = 100 # number of trial\n",
    "elixir_num = 20\n",
    "\n",
    "print(f\"Probability of getting more than {elixir_num} elixirs: {1 - stats.binom.cdf(elixir_num, n, p):.4f}\")"
   ]
  },
  {
   "cell_type": "markdown",
   "metadata": {},
   "source": [
    "#### 3e. Our boss asks, \"If a user earns 100 loot boxes, what is the chance that a user gets more than 20 elixirs?\" Answer your boss' question. *Remember that your boss is not a math-y person!*"
   ]
  },
  {
   "cell_type": "code",
   "execution_count": 55,
   "metadata": {},
   "outputs": [],
   "source": [
    "# If a user were to earn or buy 100 loot boxes, there's about a ~6.6% chance that they get\n",
    "# more than 20 elixirs.\n",
    "\n",
    "# Suppose there are 25,000 active users currently. If all 25,000 users earned 100 loot boxes, \n",
    "# then we expect about 1,650 of those users to get more than 20 elixirs.\n",
    "\n",
    "# 25_000 * 0.066"
   ]
  },
  {
   "cell_type": "markdown",
   "metadata": {},
   "source": [
    "#### 4. Your boss wants to know how many people purchased how many loot boxes last month. \n",
    "> For example, last month, 70% of users did not purchase any loot boxes. 10% of people purchased one loot box. 5% of people purchased two loot boxes... and so on.\n",
    "\n",
    "#### 4a. Recall our discrete distributions: discrete uniform, Bernoulli, binomial, Poisson. Let's suppose my random variable $Y$ counts up how many loot boxes each person purchased through the game last month. What distribution is best suited for $Y$? Why?"
   ]
  },
  {
   "cell_type": "code",
   "execution_count": 57,
   "metadata": {},
   "outputs": [],
   "source": [
    "# Poisson distribution - models the number of successes we observe in a fixed amount of time,\r\n",
    "# not a fixed amount of trials\r\n",
    "\r\n",
    "# The Poisson distribution is often used to model count data, especially when the events are \r\n",
    "# relatively rare and can occur any number of times within the given interval (last month).\r\n",
    "# It's flexible enough to handle the varying probabilities we see in the data, unlike the discrete \r\n",
    "# uniform or binomial distributions."
   ]
  },
  {
   "cell_type": "code",
   "execution_count": 59,
   "metadata": {},
   "outputs": [
    {
     "data": {
      "text/plain": [
       "185185.18518518517"
      ]
     },
     "execution_count": 59,
     "metadata": {},
     "output_type": "execute_result"
    }
   ],
   "source": [
    "revenue = 500_000\n",
    "avg_purchase = 2.7\n",
    "\n",
    "# revenue / avg_purchase = number of users\n",
    "revenue / avg_purchase"
   ]
  },
  {
   "cell_type": "code",
   "execution_count": 63,
   "metadata": {},
   "outputs": [
    {
     "name": "stdout",
     "output_type": "stream",
     "text": [
      "Number of users needed: 185,186\n"
     ]
    }
   ],
   "source": [
    "# // is Floor division\n",
    "result = int(revenue // avg_purchase + 1)\n",
    "print(f\"Number of users needed: {result:,}\")"
   ]
  },
  {
   "cell_type": "code",
   "execution_count": 67,
   "metadata": {},
   "outputs": [
    {
     "data": {
      "text/plain": [
       "185186"
      ]
     },
     "execution_count": 67,
     "metadata": {},
     "output_type": "execute_result"
    }
   ],
   "source": [
    "import math\n",
    "math.ceil(revenue / avg_purchase)"
   ]
  },
  {
   "cell_type": "code",
   "execution_count": 75,
   "metadata": {},
   "outputs": [
    {
     "data": {
      "text/plain": [
       "186000"
      ]
     },
     "execution_count": 75,
     "metadata": {},
     "output_type": "execute_result"
    }
   ],
   "source": [
    "# my solution\n",
    "math.ceil(revenue/avg_purchase/1000)*1000"
   ]
  },
  {
   "cell_type": "code",
   "execution_count": null,
   "metadata": {},
   "outputs": [],
   "source": [
    "# other way\n",
    "math.floor((revenue/avg_purchase + 999) / 1000) * 1000"
   ]
  },
  {
   "cell_type": "markdown",
   "metadata": {},
   "source": [
    "#### 4b. Suppose that, on average, your customers purchased 2.7 loot boxes last month. In order for your revenue to be at least $500,000, at least how many users would you need on your platform? (Round your answer up to the nearest thousand.) "
   ]
  },
  {
   "cell_type": "markdown",
   "metadata": {},
   "source": [
    "#### 4c. Assume that your platform has the numer of users you mentioned in your last answer. Suppose that your platform calls anyone who purchases 5 or more loot boxes in a month a \"high value user.\" How much money do you expect to have earned from \"high value users?\" How about \"low value users?\""
   ]
  },
  {
   "cell_type": "code",
   "execution_count": 98,
   "metadata": {},
   "outputs": [
    {
     "name": "stdout",
     "output_type": "stream",
     "text": [
      "\n",
      "There are 12500 users expected to purchase 0 loot boxes.\n",
      "We are expected to make roughly $0.0 from those expected to purchase 0 loot boxes.\n",
      "\n",
      "There are 33751 users expected to purchase 1 loot boxes.\n",
      "We are expected to make roughly $33750.61 from those expected to purchase 1 loot boxes.\n",
      "\n",
      "There are 45563 users expected to purchase 2 loot boxes.\n",
      "We are expected to make roughly $91126.64 from those expected to purchase 2 loot boxes.\n",
      "\n",
      "There are 41007 users expected to purchase 3 loot boxes.\n",
      "We are expected to make roughly $123020.97 from those expected to purchase 3 loot boxes.\n",
      "\n",
      "There are 27680 users expected to purchase 4 loot boxes.\n",
      "We are expected to make roughly $110718.88 from those expected to purchase 4 loot boxes.\n",
      "\n",
      "We expect to make $502,200 from all users.\n",
      "\n",
      "We expect to make $358,617 from low value users.\n",
      "\n",
      "We expect to make $143,583 from high value users.\n"
     ]
    }
   ],
   "source": [
    "# Set our total purchase amount to be 0\n",
    "amount = 0\n",
    "\n",
    "# Check values from 0 to 4\n",
    "for purchases in range(5):\n",
    "\n",
    "        # How many users purchase y loot boxes?\n",
    "        print(f\"\\nThere are {round(186_000 * stats.poisson(mu = 2.7).pmf(purchases))} users expected to purchase {purchases} loot boxes.\")\n",
    "        # How much money would we make from those people? (dollar amount * number of individual)\n",
    "        print(f\"We are expected to make roughly ${purchases * round(186_000 * stats.poisson(mu = 2.7).pmf(purchases), 2)} from those expected to purchase {purchases} loot boxes.\") \n",
    "        # Add in the above quantity to amount\n",
    "        amount += purchases * round(186_000 * stats.poisson(mu = 2.7).pmf(purchases), 2)\n",
    "\n",
    "\n",
    "print(f\"\\nWe expect to make ${round(186_000 * 2.7):,} from all users.\")\n",
    "\n",
    "# How much we expect to make from people buying 4 or fewer loot boxes (low value users)\n",
    "print(f\"\\nWe expect to make ${round(amount):,} from low value users.\")\n",
    "    \n",
    "# How much we expect to make from people buying at least 5 loot boxes (high value users)\n",
    "print(f\"\\nWe expect to make ${round(186_000 * 2.7) - round(amount):,} from high value users.\")"
   ]
  },
  {
   "cell_type": "markdown",
   "metadata": {},
   "source": [
    "#### 4d. Suppose that you want to summarize how many people purchased how many loot boxes last month for your boss. Since your boss isn't math-y, what are 2-4 summary numbers you might use to summarize this for your boss? (Your answers will vary here - use your judgment!)"
   ]
  },
  {
   "cell_type": "code",
   "execution_count": null,
   "metadata": {},
   "outputs": [],
   "source": [
    "# Expected revenue total / Expected revenue by user type\r\n",
    "# Counts of user types\r\n",
    "# Average number of loot boxes purchased by users\r\n",
    "# Total number of loot boxes purchased by users\r\n",
    "# Ratio of low value users to high value users"
   ]
  },
  {
   "cell_type": "markdown",
   "metadata": {},
   "source": [
    "#### 5. Your boss asks \"How many loot boxes does it take before someone gets their first elixir?\" Using `np.random.choice`, simulate how many loot boxes it takes somone to get their first elixir. \n",
    "- Start an empty list.\n",
    "- Use control flow to have someone open loot boxes repeatedly.\n",
    "- Once they open a loot box containing an elixir, record the number of loot boxes it took in the empty list.\n",
    "- Repeat this process 100,000 times. \n",
    "\n",
    "This simulates how long it takes for someone to open a loot box containing elixir. Share the 5th, 25th, 50th, 75th, and 95th percentiles.\n",
    "\n",
    "> You may find [this documentation](https://docs.scipy.org/doc/numpy/reference/generated/numpy.random.choice.html)  and [this documentation](https://docs.scipy.org/doc/numpy/reference/generated/numpy.percentile.html) helpful."
   ]
  },
  {
   "cell_type": "code",
   "execution_count": 79,
   "metadata": {},
   "outputs": [],
   "source": [
    "import numpy as np\n",
    "\n",
    "# Set random seed for reproducibility\n",
    "np.random.seed(42)\n",
    "\n",
    "# Create empty list to collect how many turns until an elixir is found\n",
    "times_until_elixir = []\n",
    "\n",
    "# Possible outcomes from opening a loot box\n",
    "loot_box = ['elixir', 'nothing']\n",
    "\n",
    "# Loop through 100_000 loot box openings (experiment)\n",
    "for i in range(100_000):\n",
    "    turns = 0\n",
    "\n",
    "    # Opening of a loot box\n",
    "    while True:\n",
    "        opened_loot_box = np.random.choice(loot_box, p = [0.15, 0.85])\n",
    "        turns += 1\n",
    "        # If we find an elixir, add turns to the empty list called `times_until_elixir`\n",
    "        if opened_loot_box == 'elixir':\n",
    "            times_until_elixir.append(turns)\n",
    "            break"
   ]
  },
  {
   "cell_type": "markdown",
   "metadata": {},
   "source": [
    "**NOTE**: When your Jupyter notebook is open, double-click on this Markdown cell! You can delete this text and put your answer to the previous problem in here."
   ]
  },
  {
   "cell_type": "markdown",
   "metadata": {},
   "source": [
    "### Version 2\n",
    "\n",
    "After a substantial update to the game, suppose every loot box can be opened to reveal *one of four different* items:\n",
    "- magical elixir (occurs 1% of the time, most valuable)\n",
    "- golden pendant (occurs 9% of the time, valuable)\n",
    "- steel armor (occurs 30% of the time, semi-valuable)\n",
    "- bronze coin (occurs 60% of the time, least valuable)"
   ]
  },
  {
   "cell_type": "markdown",
   "metadata": {},
   "source": [
    "#### 6. Suppose you want repeat problem 5 above, but do that for the version 2 loot boxes so you can track how many loot boxes are needed to get each item? (e.g. You'd like to be able to say that on average it takes 10 trials to get a golden pendant, 3 trials to get steel armor, and so on.) What Python datatype is the best way to store this data? Why?"
   ]
  },
  {
   "cell_type": "markdown",
   "metadata": {},
   "source": [
    "# dictionary"
   ]
  },
  {
   "cell_type": "markdown",
   "metadata": {},
   "source": [
    "#### 7. Suppose you and your boss want to measure whether \"Version 2\" is better than \"Version 1.\" What metrics do you think are important to measure? (Your answers will vary here - use your judgment!)"
   ]
  },
  {
   "cell_type": "code",
   "execution_count": 92,
   "metadata": {},
   "outputs": [],
   "source": [
    "# my solution\n",
    "# - Total revenue\n",
    "# - Total purchase loot box number\n",
    "# - Total revenue of loot box per user\n",
    "# - Purchase number of loot box per user-\n",
    "# - Repeat purchase rate per user"
   ]
  },
  {
   "cell_type": "code",
   "execution_count": null,
   "metadata": {},
   "outputs": [],
   "source": []
  }
 ],
 "metadata": {
  "kernelspec": {
   "display_name": "Python 3 (ipykernel)",
   "language": "python",
   "name": "python3"
  },
  "language_info": {
   "codemirror_mode": {
    "name": "ipython",
    "version": 3
   },
   "file_extension": ".py",
   "mimetype": "text/x-python",
   "name": "python",
   "nbconvert_exporter": "python",
   "pygments_lexer": "ipython3",
   "version": "3.12.4"
  }
 },
 "nbformat": 4,
 "nbformat_minor": 4
}
